{
 "cells": [
  {
   "cell_type": "markdown",
   "metadata": {},
   "source": [
    "## **`19-Blockchain-Python - Day 2 - Bit, A Python Library`**"
   ]
  },
  {
   "cell_type": "markdown",
   "metadata": {},
   "source": [
    "### **Objectives**\n",
    "\n",
    "* Define Unspent Transaction Output (UTXO) (data structure behind Bitcoin-based projects).\n",
    "* Explain how UTXOs in Bitcoin transactions allow for multi-input and multi-output transactions.\n",
    "* Send Bitcoin transactions on bitcoin’s test network.\n",
    "* Explain the difference between Ethereum and Bitcoin's account models (UTXOs vs. Nonces)."
   ]
  },
  {
   "cell_type": "markdown",
   "metadata": {},
   "source": [
    "### **Resources**\n",
    "\n",
    "* [BIP39 Conversion tool](https://github.com/iancoleman/bip39/releases)\n",
    "* [Coin Faucet](https://coinfaucet.eu/en/btc-testnet/)\n",
    "* [Yet Another Bitcoin Testnet Faucet](https://testnet-faucet.mempool.co/)\n",
    "* [latest BTC transactions on Blockcypher](https://live.blockcypher.com/btc/)\n"
   ]
  },
  {
   "cell_type": "markdown",
   "metadata": {},
   "source": [
    "### **Presentation**\n",
    "* [Blockchain-Python - Day 2 - Bit, A Python Library](../../Slideshows/FinTech-19-2_Bit,A_Python_Library.pdf)"
   ]
  },
  {
   "cell_type": "markdown",
   "metadata": {},
   "source": [
    "### **Install**\n",
    "```\n",
    "pip install bit\n",
    "```"
   ]
  },
  {
   "cell_type": "markdown",
   "metadata": {},
   "source": [
    "### **Questions in Class**\n",
    "\n",
    "* What is Ethereum?\n",
    "* Why is Ethereum important?\n",
    "* Now let's take this back a bit, what was the first blockchain?\n",
    "* Can anyone describe a couple of differences between Bitcoin and Ethereum?\n"
   ]
  },
  {
   "cell_type": "markdown",
   "metadata": {},
   "source": [
    "### **Questions in Class**\n",
    "\n",
    "* What is Ethereum?\n",
    "\n",
    "     **Answer**: A global computer powered by blockchain technology.\n",
    "\n",
    "* Why is Ethereum important?\n",
    "\n",
    "     **Answer**: It makes a decentralized computing and money system available to everyone, powered by everyone.\n",
    "\n",
    "* Now let's take this back a bit, what was the first blockchain?\n",
    "\n",
    "     **Answer**: Bitcoin!\n",
    "\n",
    "Today we're going to talk about the differences in the architectures of Bitcoin and bitcoin-based blockchains versus\n",
    "Ethereum-based blockchains.\n",
    "\n",
    "* Can anyone describe a couple of differences between Bitcoin and Ethereum?\n",
    "\n",
    "    **Answer**: Ethereum is \"Turing complete\" meaning it is capable of general computing.\n",
    "\n",
    "    **Answer**: Bitcoin supports multiple inputs and outputs in transactions (more on this in a bit).\n",
    "\n",
    "    **Answer**: Ethereum uses nonces to count transactions sent from an account.\n",
    "\n",
    "    **Answer**: Ethereum uses a single account system, Bitcoin uses a UTXO system (more on this in a bit).\n",
    "\n",
    "    **Answer**: Bitcoin supports multisig natively versus needing more complex and expensive smart contracts (more on this later today).\n"
   ]
  },
  {
   "cell_type": "markdown",
   "metadata": {},
   "source": [
    "# =========================================="
   ]
  },
  {
   "cell_type": "markdown",
   "metadata": {},
   "source": [
    "### 2.01 Students Do: Wallet Check (15 min)"
   ]
  },
  {
   "cell_type": "markdown",
   "metadata": {},
   "source": [
    "# Test Bitcoins\n",
    "\n",
    "In this activity, you will extract a Bitcoin testnet address from your mnemonic, and if you do not have test bitcoins,\n",
    "send the address to your instructor.\n",
    "\n",
    "## Instructions\n",
    "\n",
    "* Download a local copy of the BIP39 online converter from [the releases page](https://github.com/iancoleman/bip39/releases).\n",
    "\n",
    "  * You will need to download the `bip39-standalone.html` file.\n",
    "\n",
    "* Open this file in your browser.\n",
    "\n",
    "* Paste the mnemonic you've been using in the `BIP39 Mnemonic` field.\n",
    "\n",
    "* Select `BTC Testnet` in the `Coin` type dropdown:\n",
    "\n",
    "![BTC Testnet](Images/bip39-btc-testnet.png)\n",
    "\n",
    "* Scroll down and copy the first testnet address generated in the `Derived Address` field.\n",
    "\n",
    "![BTC Test address](Images/bip39-derived.png)\n",
    "\n",
    "* Send this address to your instructor if you have not acquired test bitcoins yet.\n",
    "\n",
    "* **Keep the first address and private key handy for copying later when we work with it in Python.**\n",
    "\n",
    "\n",
    "Or Use the online version here: https://iancoleman.io/bip39/"
   ]
  },
  {
   "cell_type": "code",
   "execution_count": 45,
   "metadata": {},
   "outputs": [],
   "source": [
    "from bit import wif_to_key"
   ]
  },
  {
   "cell_type": "code",
   "execution_count": 60,
   "metadata": {},
   "outputs": [
    {
     "data": {
      "text/plain": [
       "str"
      ]
     },
     "execution_count": 60,
     "metadata": {},
     "output_type": "execute_result"
    }
   ],
   "source": [
    "import os\n",
    "from dotenv import load_dotenv\n",
    "load_dotenv()\n",
    "private_key = os.getenv(\"BITCOIN_PRIVATE_KEY\")\n",
    "type(private_key)"
   ]
  },
  {
   "cell_type": "code",
   "execution_count": 61,
   "metadata": {},
   "outputs": [
    {
     "data": {
      "text/plain": [
       "<PrivateKeyTestnet: mmrRhV96hcZMyhdQSTtdCMdruBrQUXv8dU>"
      ]
     },
     "execution_count": 61,
     "metadata": {},
     "output_type": "execute_result"
    }
   ],
   "source": [
    "# replace with your private key\n",
    "account_adress = wif_to_key(private_key)\n",
    "account_adress"
   ]
  },
  {
   "cell_type": "code",
   "execution_count": 32,
   "metadata": {},
   "outputs": [],
   "source": [
    "accounts = {\n",
    "    \"Steven\": \"mrRKiPC1haehnwNm192moDb2TVLgSrA8gZ\",\n",
    "    \"Benny\": \"mv5tmEGT5B6yC4nSU9tuDQXZQ6vdWDQSZQ\",\n",
    "    \"Kim\": \"mxwEWeMrUb69jGUXLrgJQtXAyiHgTgaZXb\",\n",
    "    \"Nenita\":\"mn8hMAn1dijyDfS7TYx7bmLUzSdfDJycqc\"\n",
    "}"
   ]
  },
  {
   "cell_type": "code",
   "execution_count": 39,
   "metadata": {},
   "outputs": [
    {
     "name": "stdout",
     "output_type": "stream",
     "text": [
      "Steven mrRKiPC1haehnwNm192moDb2TVLgSrA8gZ\n",
      "Benny mv5tmEGT5B6yC4nSU9tuDQXZQ6vdWDQSZQ\n",
      "Kim mxwEWeMrUb69jGUXLrgJQtXAyiHgTgaZXb\n",
      "Nenita mn8hMAn1dijyDfS7TYx7bmLUzSdfDJycqc\n",
      "----------------------------------------------------------------\n"
     ]
    }
   ],
   "source": [
    "for account in accounts:\n",
    "    print(account, accounts[account])\n",
    "print(\"-\"*64)"
   ]
  },
  {
   "cell_type": "code",
   "execution_count": 40,
   "metadata": {},
   "outputs": [
    {
     "name": "stdout",
     "output_type": "stream",
     "text": [
      "Steven mrRKiPC1haehnwNm192moDb2TVLgSrA8gZ\n",
      "Benny mv5tmEGT5B6yC4nSU9tuDQXZQ6vdWDQSZQ\n",
      "Kim mxwEWeMrUb69jGUXLrgJQtXAyiHgTgaZXb\n",
      "Nenita mn8hMAn1dijyDfS7TYx7bmLUzSdfDJycqc\n"
     ]
    }
   ],
   "source": [
    "send_to = []\n",
    "for name, account in accounts.items():\n",
    "    print(name, account)\n",
    "    send_to.append((account, 0.0001, \"btc\"))"
   ]
  },
  {
   "cell_type": "code",
   "execution_count": 41,
   "metadata": {},
   "outputs": [
    {
     "data": {
      "text/plain": [
       "[('mrRKiPC1haehnwNm192moDb2TVLgSrA8gZ', 0.0001, 'btc'),\n",
       " ('mv5tmEGT5B6yC4nSU9tuDQXZQ6vdWDQSZQ', 0.0001, 'btc'),\n",
       " ('mxwEWeMrUb69jGUXLrgJQtXAyiHgTgaZXb', 0.0001, 'btc'),\n",
       " ('mn8hMAn1dijyDfS7TYx7bmLUzSdfDJycqc', 0.0001, 'btc')]"
      ]
     },
     "execution_count": 41,
     "metadata": {},
     "output_type": "execute_result"
    }
   ],
   "source": [
    "send_to"
   ]
  },
  {
   "cell_type": "code",
   "execution_count": 42,
   "metadata": {},
   "outputs": [],
   "source": [
    "tx_id = account_adress.send(send_to)"
   ]
  },
  {
   "cell_type": "code",
   "execution_count": 43,
   "metadata": {},
   "outputs": [
    {
     "data": {
      "text/plain": [
       "'d435424d587a7e146e9317df3ca85e95b3e008870253546b49ac63eb10b98e84'"
      ]
     },
     "execution_count": 43,
     "metadata": {},
     "output_type": "execute_result"
    }
   ],
   "source": [
    "tx_id"
   ]
  },
  {
   "cell_type": "markdown",
   "metadata": {},
   "source": [
    "# =========================================="
   ]
  },
  {
   "cell_type": "markdown",
   "metadata": {},
   "source": [
    "### 2.02 Students Do: Visualizing UTXOs (15 min)"
   ]
  },
  {
   "cell_type": "markdown",
   "metadata": {},
   "source": [
    "# Visualizing UTXOs\n",
    "\n",
    "In this activity, you will navigate through several transactions in a Bitcoin block explorer,\n",
    "and decipher the different key parts, including the UTXOs.\n",
    "\n",
    "## Instructions\n",
    "\n",
    "* Navigate to the [latest BTC transactions on Blockcypher](https://live.blockcypher.com/btc/).\n",
    "\n",
    "* Click on a transaction hash in the `Latest Transactions` section.\n",
    "\n",
    "You should see a transaction visualized like the following:\n",
    "\n",
    "![btc tx](Images/btc-tx.png)\n",
    "\n",
    "* Identify the following fields in the transaction:\n",
    "\n",
    "  * Transaction Inputs\n",
    "\n",
    "  * Transaction Outputs (UTXOs)\n",
    "\n",
    "  * Transaction Fee\n",
    "\n",
    "* Identify the UTXO that matches the `Amount Transacted` field at the top.\n",
    "  This is the new Unspent Transaction Output that can be spent by the destination address.\n",
    "\n",
    "* Identify the address that the funds are ultimately being sent to.\n",
    "\n",
    "* Repeat these steps with another transaction. See if you can decipher what is going on!\n",
    "\n",
    "## Hints\n",
    "\n",
    "* The destination address should be in the same bubble as the UTXO that matches the `Amount Transacted`.\n",
    "---"
   ]
  },
  {
   "cell_type": "code",
   "execution_count": null,
   "metadata": {},
   "outputs": [],
   "source": []
  },
  {
   "cell_type": "markdown",
   "metadata": {},
   "source": [
    "# =========================================="
   ]
  },
  {
   "cell_type": "markdown",
   "metadata": {},
   "source": [
    "### 2.03 Instructor Do: Multi Output Transaction Demo (10 min)"
   ]
  },
  {
   "cell_type": "markdown",
   "metadata": {},
   "source": []
  },
  {
   "cell_type": "code",
   "execution_count": null,
   "metadata": {},
   "outputs": [],
   "source": [
    "from bit import wif_to_key"
   ]
  },
  {
   "cell_type": "code",
   "execution_count": null,
   "metadata": {},
   "outputs": [],
   "source": [
    "key = wif_to_key(\"\")"
   ]
  },
  {
   "cell_type": "code",
   "execution_count": null,
   "metadata": {},
   "outputs": [],
   "source": [
    "# replace with different addresses\n",
    "addresses = [\n",
    "    \"0xc3879B456DAA348a16B6524CBC558d2CC984722c\",\n",
    "    \"0xA29f7E79ECEA4cE30DD78cfeb9605D9aFf5143a5\",\n",
    "]"
   ]
  },
  {
   "cell_type": "code",
   "execution_count": null,
   "metadata": {},
   "outputs": [],
   "source": [
    "outputs = []\n",
    "\n",
    "for address in addresses:\n",
    "    outputs.append((address, 0.001, \"btc\"))"
   ]
  },
  {
   "cell_type": "code",
   "execution_count": null,
   "metadata": {},
   "outputs": [],
   "source": [
    "print(key.send(outputs))"
   ]
  },
  {
   "cell_type": "markdown",
   "metadata": {},
   "source": [
    "# =========================================="
   ]
  },
  {
   "cell_type": "markdown",
   "metadata": {},
   "source": [
    "### BREAK (0:10)"
   ]
  },
  {
   "cell_type": "markdown",
   "metadata": {},
   "source": [
    "# =========================================="
   ]
  },
  {
   "cell_type": "markdown",
   "metadata": {},
   "source": [
    "### 2.04 Students Do: Sending a multi-output transaction (15 min)"
   ]
  },
  {
   "cell_type": "markdown",
   "metadata": {},
   "source": [
    "# Multi-Output Transaction\n",
    "\n",
    "In this activity, you will send a multi-output transaction that sends `0.0003 BTC`\n",
    "to at least 3 of your fellow students.\n",
    "\n",
    "## Instructions\n",
    "\n",
    "* Get at least 3 testnet bitcoin addresses from your neighbors. You'll also need to give away your primary testnet address.\n",
    "\n",
    "* Using [this starter code](04-Stu_Multi_Output_Tx/Unsolved/multi-output-testnet-tx.py), construct and send a transaction that sends `0.0003 BTC` to each of these addresses.\n",
    "\n",
    " * To do this, you will need to push a tuple with the following format to the outputs array:\n",
    "\n",
    " ```python\n",
    "  (\"address\", 0.0, \"denomination\")\n",
    " ```\n",
    "\n",
    "* Add the `send` function using `key.send`. Pass the outputs to this function and print the result.\n",
    "\n",
    "## Challenge\n",
    "\n",
    "* If time remains, try to change the denominations to USD.\n",
    "\n",
    "* Try to fetch the transaction status using the transaction ID.\n",
    "\n",
    "## Hints\n",
    "\n",
    "* If you get stuck, take a look at the [Bit documentation](https://ofek.dev/bit/index.html).\n"
   ]
  },
  {
   "cell_type": "code",
   "execution_count": 50,
   "metadata": {},
   "outputs": [
    {
     "data": {
      "text/plain": [
       "str"
      ]
     },
     "execution_count": 50,
     "metadata": {},
     "output_type": "execute_result"
    }
   ],
   "source": [
    "import os\n",
    "from dotenv import load_dotenv\n",
    "load_dotenv()\n",
    "private_key = os.getenv(\"BITCOIN_PRIVATE_KEY\")\n",
    "type(private_key)"
   ]
  },
  {
   "cell_type": "code",
   "execution_count": 51,
   "metadata": {},
   "outputs": [],
   "source": [
    "from bit import wif_to_key"
   ]
  },
  {
   "cell_type": "code",
   "execution_count": 52,
   "metadata": {},
   "outputs": [],
   "source": [
    "# insert private key here\n",
    "key = wif_to_key(private_key)"
   ]
  },
  {
   "cell_type": "code",
   "execution_count": 55,
   "metadata": {},
   "outputs": [
    {
     "data": {
      "text/plain": [
       "'0.03222623'"
      ]
     },
     "execution_count": 55,
     "metadata": {},
     "output_type": "execute_result"
    }
   ],
   "source": [
    "key.get_balance(\"btc\")"
   ]
  },
  {
   "cell_type": "code",
   "execution_count": 58,
   "metadata": {},
   "outputs": [
    {
     "name": "stdout",
     "output_type": "stream",
     "text": [
      "https://live.blockcypher.com/btc-testnet/tx/d435424d587a7e146e9317df3ca85e95b3e008870253546b49ac63eb10b98e84\n",
      "https://live.blockcypher.com/btc-testnet/tx/a73e9402336a817504e358d3ea5f548da2db6ca672854cf7feaf08b679a76f2a\n",
      "https://live.blockcypher.com/btc-testnet/tx/c38f47d1a52cf7c2f0afa7db8bd2d3cda390fb5a41c4166cc95cc06268e96c47\n",
      "https://live.blockcypher.com/btc-testnet/tx/667eeb4e35392520713f43a1875072e8c1774a41675dbc855c90e21fac7602d7\n",
      "https://live.blockcypher.com/btc-testnet/tx/f95fcedd39de462b81011148baf21f42a89e8b0df31f91b5048d62ac51f8bc7e\n",
      "https://live.blockcypher.com/btc-testnet/tx/5d3b9cab37ca752671637467137168613ca93a9dad0d453cbab40cea1458ea40\n",
      "https://live.blockcypher.com/btc-testnet/tx/3b1bcc84044f0d8d2e07bf02fc935be015a76e368ba960869df27fa897efc8ba\n",
      "https://live.blockcypher.com/btc-testnet/tx/106886e451be1ebdc2b076467faff52f2a478df63925afab7c1d313a8d0bc044\n",
      "https://live.blockcypher.com/btc-testnet/tx/a674c55b510eb5f51c2933e65103b896d9752b7c919973daa0b900859cffc709\n",
      "https://live.blockcypher.com/btc-testnet/tx/5d1d5aad23740428f1cbfaec1aa5f2a7c38af9e0541cb867c731c39cc99136e0\n"
     ]
    }
   ],
   "source": [
    "for x in key.get_transactions():\n",
    "    print(f\"https://live.blockcypher.com/btc-testnet/tx/{x}\")"
   ]
  },
  {
   "cell_type": "code",
   "execution_count": 59,
   "metadata": {},
   "outputs": [
    {
     "data": {
      "text/plain": [
       "[Unspent(amount=3222623, confirmations=13, script='76a914457f889f77f0bd295dc1e024fcf2a5fd61733ce088ac', txid='d435424d587a7e146e9317df3ca85e95b3e008870253546b49ac63eb10b98e84', txindex=4, segwit=False, sequence=4294967295)]"
      ]
     },
     "execution_count": 59,
     "metadata": {},
     "output_type": "execute_result"
    }
   ],
   "source": [
    "key.get_unspents()"
   ]
  },
  {
   "cell_type": "code",
   "execution_count": 63,
   "metadata": {},
   "outputs": [],
   "source": [
    "# replace with different addresses\n",
    "addresses = {\n",
    "    \"Steven\": \"mrRKiPC1haehnwNm192moDb2TVLgSrA8gZ\",\n",
    "    \"Benny\": \"mv5tmEGT5B6yC4nSU9tuDQXZQ6vdWDQSZQ\",\n",
    "    \"Kim\": \"mxwEWeMrUb69jGUXLrgJQtXAyiHgTgaZXb\",\n",
    "    \"Nenita\":\"mn8hMAn1dijyDfS7TYx7bmLUzSdfDJycqc\"\n",
    "}"
   ]
  },
  {
   "cell_type": "code",
   "execution_count": 70,
   "metadata": {},
   "outputs": [],
   "source": [
    "outputs = []\n",
    "\n",
    "for name, address in addresses.items():\n",
    "    outputs.append((address, 0.0001, \"btc\"))\n",
    "    # Insert code here"
   ]
  },
  {
   "cell_type": "code",
   "execution_count": 71,
   "metadata": {},
   "outputs": [
    {
     "data": {
      "text/plain": [
       "[('mrRKiPC1haehnwNm192moDb2TVLgSrA8gZ', 0.0001, 'btc'),\n",
       " ('mv5tmEGT5B6yC4nSU9tuDQXZQ6vdWDQSZQ', 0.0001, 'btc'),\n",
       " ('mxwEWeMrUb69jGUXLrgJQtXAyiHgTgaZXb', 0.0001, 'btc'),\n",
       " ('mn8hMAn1dijyDfS7TYx7bmLUzSdfDJycqc', 0.0001, 'btc')]"
      ]
     },
     "execution_count": 71,
     "metadata": {},
     "output_type": "execute_result"
    }
   ],
   "source": [
    "outputs"
   ]
  },
  {
   "cell_type": "code",
   "execution_count": 72,
   "metadata": {},
   "outputs": [],
   "source": [
    "# send function goes here\n",
    "tx_hash = key.send(outputs)"
   ]
  },
  {
   "cell_type": "code",
   "execution_count": 74,
   "metadata": {},
   "outputs": [
    {
     "name": "stdout",
     "output_type": "stream",
     "text": [
      "https://live.blockcypher.com/btc-testnet/tx/5d1d5aad23740428f1cbfaec1aa5f2a7c38af9e0541cb867c731c39cc99136e0\n"
     ]
    }
   ],
   "source": [
    "\n",
    "print(f\"https://live.blockcypher.com/btc-testnet/tx/{x}\")"
   ]
  },
  {
   "cell_type": "markdown",
   "metadata": {},
   "source": [
    "# =========================================="
   ]
  },
  {
   "cell_type": "markdown",
   "metadata": {},
   "source": [
    "### 2.05 Students Do: Fetching Network Data (15 min)"
   ]
  },
  {
   "cell_type": "markdown",
   "metadata": {},
   "source": [
    "# Fetching Network Data\n",
    "\n",
    "In this activity, you will fetch data from the Bitcoin testnet blockchain using `bit`.\n",
    "\n",
    "## Instructions\n",
    "\n",
    "* Import your key using the `wif_to_key` function.\n",
    "\n",
    "* Get your key's balance using the `key.get_balance(\"btc\")` function.\n",
    "\n",
    "* Get your key's balance in USD using the `balance_as` function.\n",
    "\n",
    "* Fetch the latest transactions that your key has sent using the `get_transactions()` function.\n",
    "\n",
    "* Fetch the Unspent Transaction Outputs (UTXOs) from your key using the `get_unspents()` function.\n",
    "\n",
    "## Challenge\n",
    "\n",
    "* If time remains, try to convert the balance into different currencies.\n"
   ]
  },
  {
   "cell_type": "code",
   "execution_count": null,
   "metadata": {},
   "outputs": [],
   "source": [
    "from bit import wif_to_key"
   ]
  },
  {
   "cell_type": "code",
   "execution_count": null,
   "metadata": {},
   "outputs": [],
   "source": [
    "key = wif_to_key(\"PRIVATE_KEY_IN_WIF_FORMAT_HERE\")"
   ]
  },
  {
   "cell_type": "code",
   "execution_count": null,
   "metadata": {},
   "outputs": [],
   "source": [
    "# @TODO: Get balance in BTC"
   ]
  },
  {
   "cell_type": "code",
   "execution_count": null,
   "metadata": {},
   "outputs": [],
   "source": [
    "# @TODO: Get balance in USD"
   ]
  },
  {
   "cell_type": "code",
   "execution_count": null,
   "metadata": {},
   "outputs": [],
   "source": [
    "# @TODO: Get transactions that the key participated in"
   ]
  },
  {
   "cell_type": "code",
   "execution_count": null,
   "metadata": {},
   "outputs": [],
   "source": [
    "# @TODO: Get Unspent Transaction Outputs (UTXOs)"
   ]
  },
  {
   "cell_type": "markdown",
   "metadata": {},
   "source": [
    "# =========================================="
   ]
  },
  {
   "cell_type": "markdown",
   "metadata": {},
   "source": [
    "### Rating Class Objectives\n",
    "\n",
    "* rate your understanding using 1-5 method in each objective"
   ]
  },
  {
   "cell_type": "code",
   "execution_count": 75,
   "metadata": {},
   "outputs": [
    {
     "name": "stdin",
     "output_type": "stream",
     "text": [
      "Define Unspent Transaction Output (UTXO) (data structure behind Bitcoin-based projects)?  4\n",
      "Explain how UTXOs in Bitcoin transactions allow for multi-input and multi-output transactions?  5\n",
      "Send Bitcoin transactions on bitcoin’s test network?  5\n",
      "Explain the difference between Ethereum and Bitcoin's account models (UTXOs vs. Nonces)?  5\n"
     ]
    },
    {
     "name": "stdout",
     "output_type": "stream",
     "text": [
      "================================================================================================\n",
      "My rating today is:\n",
      "------------------------\n",
      "Define Unspent Transaction Output (UTXO) (data structure behind Bitcoin-based projects). (4/5)\n",
      "Explain how UTXOs in Bitcoin transactions allow for multi-input and multi-output transactions. (5/5)\n",
      "Send Bitcoin transactions on bitcoin’s test network. (5/5)\n",
      "Explain the difference between Ethereum and Bitcoin's account models (UTXOs vs. Nonces). (5/5)\n",
      "----------------------------------------------------------------\n",
      "Average: 4.75\n"
     ]
    }
   ],
   "source": [
    "objectives = [\n",
    "    \"Define Unspent Transaction Output (UTXO) (data structure behind Bitcoin-based projects)\",\n",
    "    \"Explain how UTXOs in Bitcoin transactions allow for multi-input and multi-output transactions\",\n",
    "    \"Send Bitcoin transactions on bitcoin’s test network\",\n",
    "    \"Explain the difference between Ethereum and Bitcoin's account models (UTXOs vs. Nonces)\",\n",
    "]\n",
    "rating = []\n",
    "total = 0\n",
    "for i in range(len(objectives)):\n",
    "    rate = input(objectives[i]+\"? \")\n",
    "    total += int(rate)\n",
    "    rating.append(objectives[i] + \". (\" + rate + \"/5)\")\n",
    "print(\"=\"*96)\n",
    "print(\"My rating today is:\")\n",
    "print(\"-\"*24)\n",
    "for i in rating:\n",
    "    print(i)\n",
    "print(\"-\"*64)\n",
    "print(\"Average: \" + str(total/len(objectives)))"
   ]
  },
  {
   "cell_type": "code",
   "execution_count": null,
   "metadata": {},
   "outputs": [],
   "source": []
  }
 ],
 "metadata": {
  "kernelspec": {
   "display_name": "Python [conda env:dev]",
   "language": "python",
   "name": "conda-env-dev-py"
  },
  "language_info": {
   "codemirror_mode": {
    "name": "ipython",
    "version": 3
   },
   "file_extension": ".py",
   "mimetype": "text/x-python",
   "name": "python",
   "nbconvert_exporter": "python",
   "pygments_lexer": "ipython3",
   "version": "3.7.10"
  }
 },
 "nbformat": 4,
 "nbformat_minor": 4
}
